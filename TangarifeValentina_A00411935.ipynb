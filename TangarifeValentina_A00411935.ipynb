{
  "nbformat": 4,
  "nbformat_minor": 0,
  "metadata": {
    "colab": {
      "provenance": [],
      "toc_visible": true,
      "authorship_tag": "ABX9TyO0Jwj/ik/4a1YSl5EgBAk3",
      "include_colab_link": true
    },
    "kernelspec": {
      "name": "python3",
      "display_name": "Python 3"
    },
    "language_info": {
      "name": "python"
    }
  },
  "cells": [
    {
      "cell_type": "markdown",
      "metadata": {
        "id": "view-in-github",
        "colab_type": "text"
      },
      "source": [
        "<a href=\"https://colab.research.google.com/github/valentangarife/MATEMATICAS-APLICADAS-1-/blob/main/TangarifeValentina_A00411935.ipynb\" target=\"_parent\"><img src=\"https://colab.research.google.com/assets/colab-badge.svg\" alt=\"Open In Colab\"/></a>"
      ]
    },
    {
      "cell_type": "markdown",
      "source": [
        "#AUTOBIOGRAFIA\n",
        "\n",
        "Me llamo Valentina Tangarife Rincon, tengo 17 años, naci en cali, valle del cauca, actualmente curso segundo semestre de ingenieria en sistemas en la universidad icesi de cali. vivo con mis papas,mi hermano menor y mi perrita shit zu. Considero que mis papas me han enseñado buenos valores los cuales siempre aplico para mi vida cotidiana, y soy feliz con mi vida!\n",
        "\n",
        "<font color=\"Green\"> Vista previa de mi ciudad: </font>\n",
        "\n",
        "<img src= https://t4.ftcdn.net/jpg/02/38/09/39/360_F_238093946_0T1s90e2drQSPGQt9EmHMPzHbT2QVGjM.jpg>\n",
        "\n",
        "\n",
        "#Listado de canciones\n",
        "\n",
        "\n",
        ">5. Hold me *Leavern Compositor Johnny Logan*\n",
        ">>4. Te invito *Aventura Compositor Romeo Santos*\n",
        ">>>3. Curita *Young Miko Compositores Maria Victoria Ramirez De Arellano Cardona, Diego Amaury Lopez, Joan Manuel Ubiñas, Abner Cordero Boria*\n",
        ">>>>2. La tierra del olvido *Carlos Vives Compositor Carlos Vives Ivan Benavides*\n",
        ">>>>>1. Soledad *la 33  Compositor  Checho Mejía*\n",
        "\n",
        "\n",
        "#Tabla con mis asignaturas favoritas\n",
        "\n",
        "|   Materia Fav   |    Porque    |\n",
        "|-----------------|--------------|\n",
        "|  Ingesoft       | Porque es de las materias de mi carrera que mas me hace ilusion aprender.             |\n",
        "|  Ingles     | Porque siempre me gusta aprender a hablar un nuevo idioma             |\n",
        "|  Matematicas        | Porque son fundamentales para mi vida cotidiana y profesional             |"
      ],
      "metadata": {
        "id": "RmeicPFOtaU2"
      }
    }
  ]
}