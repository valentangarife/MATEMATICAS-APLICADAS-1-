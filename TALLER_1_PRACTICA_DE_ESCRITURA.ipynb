{
  "nbformat": 4,
  "nbformat_minor": 0,
  "metadata": {
    "colab": {
      "provenance": [],
      "include_colab_link": true
    },
    "kernelspec": {
      "name": "python3",
      "display_name": "Python 3"
    },
    "language_info": {
      "name": "python"
    }
  },
  "cells": [
    {
      "cell_type": "markdown",
      "metadata": {
        "id": "view-in-github",
        "colab_type": "text"
      },
      "source": [
        "<a href=\"https://colab.research.google.com/github/valentangarife/MATEMATICAS-APLICADAS-1-/blob/main/TALLER_1_PRACTICA_DE_ESCRITURA.ipynb\" target=\"_parent\"><img src=\"https://colab.research.google.com/assets/colab-badge.svg\" alt=\"Open In Colab\"/></a>"
      ]
    },
    {
      "cell_type": "markdown",
      "source": [
        "INTEGRANTES TALLER #1 DE PRACTICA MATEMATICAS APLICADAS:\n",
        ">SAMUEL VELA - A00410055\n",
        ">>FELIPE CUADROS - A00410604\n",
        ">>>JUAN ANDRES ARIZA -\n",
        "\n",
        "\n",
        "\n",
        "\n",
        ">>>>VALENTINA TANGARIFE RINCON - A00411935\n"
      ],
      "metadata": {
        "id": "DjqiR20I_IO_"
      }
    },
    {
      "cell_type": "markdown",
      "source": [
        "1. Para cada una de las funciones dadas a continuación, despeje la variable\n",
        "indicada y luego escriba ambas funciones en LaTex"
      ],
      "metadata": {
        "id": "aSHbyJLzB0B7"
      }
    },
    {
      "cell_type": "code",
      "source": [],
      "metadata": {
        "id": "4Ow-y1AgCUZu"
      },
      "execution_count": null,
      "outputs": []
    },
    {
      "cell_type": "markdown",
      "source": [
        "2. Operaciones artimeticas resueltas y comprobadas con phyton:"
      ],
      "metadata": {
        "id": "tcSrddMzBle_"
      }
    },
    {
      "cell_type": "code",
      "source": [
        "(3*(-5 + 10 + (-5)) - 2*(-2 + (-4) + 10))**2"
      ],
      "metadata": {
        "colab": {
          "base_uri": "https://localhost:8080/"
        },
        "id": "OMnVhWUhCU6y",
        "outputId": "c370093f-7de2-48c4-b8a5-d4c2f1046ff4"
      },
      "execution_count": null,
      "outputs": [
        {
          "output_type": "execute_result",
          "data": {
            "text/plain": [
              "64"
            ]
          },
          "metadata": {},
          "execution_count": 3
        }
      ]
    },
    {
      "cell_type": "code",
      "source": [
        "45 + (3 * (2 + 8) - 8 / 4) + 10 - 83"
      ],
      "metadata": {
        "colab": {
          "base_uri": "https://localhost:8080/"
        },
        "id": "kjwpAzDSGJwG",
        "outputId": "f263bd34-8004-4e61-a77f-7e559f0d16e8"
      },
      "execution_count": null,
      "outputs": [
        {
          "output_type": "execute_result",
          "data": {
            "text/plain": [
              "0.0"
            ]
          },
          "metadata": {},
          "execution_count": 5
        }
      ]
    },
    {
      "cell_type": "code",
      "source": [
        "((-4+7)**2 - 10)*(-4) - 7 - 3"
      ],
      "metadata": {
        "colab": {
          "base_uri": "https://localhost:8080/"
        },
        "id": "XYmylZf9GRTO",
        "outputId": "908b5261-691a-4b74-a78a-f4e1863b7e14"
      },
      "execution_count": null,
      "outputs": [
        {
          "output_type": "execute_result",
          "data": {
            "text/plain": [
              "-6"
            ]
          },
          "metadata": {},
          "execution_count": 26
        }
      ]
    },
    {
      "cell_type": "markdown",
      "source": [
        "3. Operaciones resueltas y escritas con phyton:"
      ],
      "metadata": {
        "id": "4fxlg2bBBZnr"
      }
    },
    {
      "cell_type": "code",
      "source": [
        "1/5*((1/2)**2 + (3/4)**2) + 10/25*((1/2)**2 + (3/4)**2) + 8/40*((1/2)**2 + (3/4)**2 )"
      ],
      "metadata": {
        "colab": {
          "base_uri": "https://localhost:8080/"
        },
        "id": "c-5hkd83I19_",
        "outputId": "da2fe1f3-2fb6-4814-c3c5-b76e922f9ea1"
      },
      "execution_count": null,
      "outputs": [
        {
          "output_type": "execute_result",
          "data": {
            "text/plain": [
              "0.65"
            ]
          },
          "metadata": {},
          "execution_count": 28
        }
      ]
    },
    {
      "cell_type": "code",
      "source": [
        "9/4*(6/8)**-1 - 5/2*(25/20)**-1 + 40/8*(20/16)**-1"
      ],
      "metadata": {
        "colab": {
          "base_uri": "https://localhost:8080/"
        },
        "id": "Fp0SldUeI12C",
        "outputId": "3a1721f8-3194-4413-f7e8-67812d23ef54"
      },
      "execution_count": null,
      "outputs": [
        {
          "output_type": "execute_result",
          "data": {
            "text/plain": [
              "5.0"
            ]
          },
          "metadata": {},
          "execution_count": 32
        }
      ]
    },
    {
      "cell_type": "markdown",
      "source": [],
      "metadata": {
        "id": "KklkB3-uKmw7"
      }
    },
    {
      "cell_type": "markdown",
      "source": [
        "4. Crea un programa que pida al usuario Nombre, Peso y Talla y este calcule el IMC\n"
      ],
      "metadata": {
        "id": "yiL60f4iAyxC"
      }
    },
    {
      "cell_type": "code",
      "source": [
        "print(\"-----------------------------\")\n",
        "print(\"Cual es su nombre\")\n",
        "Nombre = str(input())\n",
        "print(\"-----------------------------\")\n",
        "print(\"Cual es su peso en Kg\")\n",
        "Peso = int(input())\n",
        "print(\"-----------------------------\")\n",
        "print(\"Cual es su estatura en Metros\")\n",
        "Estatura = float(input())\n",
        "print(\"-----------------------------\")\n",
        "print(\"Ahora se va a calcular el IMC\")\n",
        "print(\"-----------------------------\")\n",
        "IMC = Peso / (Estatura ** 2)\n",
        "print(\"Su IMC es: \", IMC)"
      ],
      "metadata": {
        "id": "17BRsR26CVvs",
        "colab": {
          "base_uri": "https://localhost:8080/"
        },
        "outputId": "f3dc97d8-5a00-439a-88de-76816709f7ba"
      },
      "execution_count": null,
      "outputs": [
        {
          "metadata": {
            "tags": null
          },
          "name": "stdout",
          "output_type": "stream",
          "text": [
            "-----------------------------\n",
            "Cual es su nombre\n"
          ]
        }
      ]
    },
    {
      "cell_type": "markdown",
      "source": [
        "5. Escriba un programa que pida dos números luego se imprima la suma,\n",
        "resta, producto y cociente"
      ],
      "metadata": {
        "id": "v86FhqxJB3rl"
      }
    },
    {
      "cell_type": "code",
      "source": [
        "\n",
        "print(\"------------------------------\")\n",
        "print(\"Porfavor digite dos numeros\")\n",
        "Número1=int(input())\n",
        "Número2=int(input())\n",
        "print(\"----------------------------------------------------------------\")\n",
        "print(\"El resultado de la suma de los dos números es:\",(Número1 + Número2))\n",
        "print(\"----------------------------------------------------------------\")\n",
        "print(\"El resultado de la resta de los dos números es\",(Número1 - Número2))\n",
        "print(\"----------------------------------------------------------------\")\n",
        "print(\"El resultado del producto de los dos números es:\",(Número1 * Número2))\n",
        "print(\"----------------------------------------------------------------\")\n",
        "print(\"El resultado del cociente de los dos números es:\",(Número1 / Número2))\n",
        "print(\"----------------------------------------------------------------\")\n"
      ],
      "metadata": {
        "id": "yS7IqQKUCWR3"
      },
      "execution_count": null,
      "outputs": []
    },
    {
      "cell_type": "markdown",
      "source": [
        "6. APLICACIONES: Construir una lista que Almacene el precio del Barril de Petróleo los últimos 7 días. Indague sobre el precio de un litro de Cocacola (Hoy) y haga la conversión de Litros a Barriles bbl oil. Construya otra lista\n",
        "que relacione proporcionablemente el precio de un barril de Petróleo\n",
        "vs un barril de Cocacola. Construya un párrafo con sus conclusiones."
      ],
      "metadata": {
        "id": "Ek4y6VEPCDDq"
      }
    },
    {
      "cell_type": "code",
      "source": [],
      "metadata": {
        "id": "2UnOmbcpCGoz"
      },
      "execution_count": null,
      "outputs": []
    }
  ]
}